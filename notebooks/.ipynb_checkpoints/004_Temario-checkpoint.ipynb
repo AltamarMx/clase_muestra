{
 "cells": [
  {
   "cell_type": "markdown",
   "metadata": {},
   "source": [
    "1. Estructura de trabajo\n",
    "1. Calculo de energía solar por día, semana, mes, año\n",
    "1. Rosa de los vientos con windrose\n",
    "1. Trucos en la libreta de Jupyter\n",
    "1. Análisis de clima a partir de un EPW  de un sitio con repositorio incluido en jupyter\n",
    "1. Heat map de sensación térmica\n",
    "1. heat map error diario con calplot\n",
    "1. Análisis de datos categóricos\n",
    "1. Grafíca de trayectoria solar aparente con interact\n",
    "1. Organiza una rifa \n",
    "1. Calcula y grafica promedio, desviación estándard, máximo y mínimo de serie de datos del día promedio\n",
    "1. Diccionario de diccionario para generar una base de datos\n",
    "1. Ambientes virtuales, caso ejemplo pandas y xlsx y xls\n",
    "1. Escribe una clase para para calcular métricas  de simulaciones y obtener resultados directo a tu tesis en LaTeX\n",
    "1. Prepara tu figura para insertarla en LaTeX\n",
    "1. Define funciones para facilitar tu flujo de trabajo en Matplotlib, caso sensores de CO2\n",
    "1. Introducción a cartopy\n",
    "1. Ajuste de polinomios\n",
    "1. Ajuste de funciones de distribucion de probabilidad\n",
    "1. Gráficas \"compuestas\"  \n",
    "1. Joy plots\n",
    "1. Formato de print caso, guardar archivos\n",
    "1. Python en microcontroladores\n",
    "1. El ambiente de Joel Grus"
   ]
  }
 ],
 "metadata": {
  "kernelspec": {
   "display_name": "Python 3",
   "language": "python",
   "name": "python3"
  },
  "language_info": {
   "codemirror_mode": {
    "name": "ipython",
    "version": 3
   },
   "file_extension": ".py",
   "mimetype": "text/x-python",
   "name": "python",
   "nbconvert_exporter": "python",
   "pygments_lexer": "ipython3",
   "version": "3.8.5"
  }
 },
 "nbformat": 4,
 "nbformat_minor": 4
}
