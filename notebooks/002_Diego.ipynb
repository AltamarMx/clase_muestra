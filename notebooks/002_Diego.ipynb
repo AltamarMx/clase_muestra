{
 "cells": [
  {
   "cell_type": "code",
   "execution_count": 18,
   "id": "18e3c876",
   "metadata": {},
   "outputs": [],
   "source": [
    "import pandas as pd\n",
    "import matplotlib.pyplot as plt\n",
    "import calendar\n",
    "import numpy as np"
   ]
  },
  {
   "cell_type": "code",
   "execution_count": 13,
   "id": "20241341",
   "metadata": {},
   "outputs": [],
   "source": [
    "df = pd.read_csv('../data/temixco.csv',index_col=0,parse_dates=True)\n"
   ]
  },
  {
   "cell_type": "code",
   "execution_count": 14,
   "id": "016c77f6",
   "metadata": {},
   "outputs": [
    {
     "data": {
      "text/html": [
       "<div>\n",
       "<style scoped>\n",
       "    .dataframe tbody tr th:only-of-type {\n",
       "        vertical-align: middle;\n",
       "    }\n",
       "\n",
       "    .dataframe tbody tr th {\n",
       "        vertical-align: top;\n",
       "    }\n",
       "\n",
       "    .dataframe thead th {\n",
       "        text-align: right;\n",
       "    }\n",
       "</style>\n",
       "<table border=\"1\" class=\"dataframe\">\n",
       "  <thead>\n",
       "    <tr style=\"text-align: right;\">\n",
       "      <th></th>\n",
       "      <th>Ib</th>\n",
       "      <th>Ig</th>\n",
       "      <th>To</th>\n",
       "      <th>RH</th>\n",
       "      <th>WS</th>\n",
       "      <th>WD</th>\n",
       "      <th>P</th>\n",
       "    </tr>\n",
       "    <tr>\n",
       "      <th>time</th>\n",
       "      <th></th>\n",
       "      <th></th>\n",
       "      <th></th>\n",
       "      <th></th>\n",
       "      <th></th>\n",
       "      <th></th>\n",
       "      <th></th>\n",
       "    </tr>\n",
       "  </thead>\n",
       "  <tbody>\n",
       "    <tr>\n",
       "      <th>2018-01-01 00:00:00</th>\n",
       "      <td>NaN</td>\n",
       "      <td>NaN</td>\n",
       "      <td>18.70</td>\n",
       "      <td>36.34</td>\n",
       "      <td>1.422</td>\n",
       "      <td>316.0</td>\n",
       "      <td>87864.11</td>\n",
       "    </tr>\n",
       "    <tr>\n",
       "      <th>2018-01-01 00:10:00</th>\n",
       "      <td>0.002</td>\n",
       "      <td>0.0</td>\n",
       "      <td>18.95</td>\n",
       "      <td>35.29</td>\n",
       "      <td>1.008</td>\n",
       "      <td>283.7</td>\n",
       "      <td>87876.37</td>\n",
       "    </tr>\n",
       "    <tr>\n",
       "      <th>2018-01-01 00:20:00</th>\n",
       "      <td>0.170</td>\n",
       "      <td>0.0</td>\n",
       "      <td>18.94</td>\n",
       "      <td>35.43</td>\n",
       "      <td>1.565</td>\n",
       "      <td>326.0</td>\n",
       "      <td>87888.64</td>\n",
       "    </tr>\n",
       "    <tr>\n",
       "      <th>2018-01-01 00:30:00</th>\n",
       "      <td>0.371</td>\n",
       "      <td>0.0</td>\n",
       "      <td>18.77</td>\n",
       "      <td>35.89</td>\n",
       "      <td>2.175</td>\n",
       "      <td>354.5</td>\n",
       "      <td>87887.21</td>\n",
       "    </tr>\n",
       "    <tr>\n",
       "      <th>2018-01-01 00:40:00</th>\n",
       "      <td>0.305</td>\n",
       "      <td>0.0</td>\n",
       "      <td>18.81</td>\n",
       "      <td>36.34</td>\n",
       "      <td>1.902</td>\n",
       "      <td>348.0</td>\n",
       "      <td>87886.91</td>\n",
       "    </tr>\n",
       "    <tr>\n",
       "      <th>...</th>\n",
       "      <td>...</td>\n",
       "      <td>...</td>\n",
       "      <td>...</td>\n",
       "      <td>...</td>\n",
       "      <td>...</td>\n",
       "      <td>...</td>\n",
       "      <td>...</td>\n",
       "    </tr>\n",
       "    <tr>\n",
       "      <th>2018-12-31 23:10:00</th>\n",
       "      <td>0.125</td>\n",
       "      <td>0.0</td>\n",
       "      <td>18.51</td>\n",
       "      <td>47.29</td>\n",
       "      <td>1.715</td>\n",
       "      <td>332.2</td>\n",
       "      <td>87484.32</td>\n",
       "    </tr>\n",
       "    <tr>\n",
       "      <th>2018-12-31 23:20:00</th>\n",
       "      <td>0.000</td>\n",
       "      <td>0.0</td>\n",
       "      <td>18.26</td>\n",
       "      <td>48.02</td>\n",
       "      <td>1.703</td>\n",
       "      <td>320.5</td>\n",
       "      <td>87470.70</td>\n",
       "    </tr>\n",
       "    <tr>\n",
       "      <th>2018-12-31 23:30:00</th>\n",
       "      <td>0.044</td>\n",
       "      <td>0.0</td>\n",
       "      <td>18.39</td>\n",
       "      <td>46.84</td>\n",
       "      <td>2.887</td>\n",
       "      <td>335.7</td>\n",
       "      <td>87455.03</td>\n",
       "    </tr>\n",
       "    <tr>\n",
       "      <th>2018-12-31 23:40:00</th>\n",
       "      <td>0.170</td>\n",
       "      <td>0.0</td>\n",
       "      <td>17.99</td>\n",
       "      <td>47.85</td>\n",
       "      <td>1.528</td>\n",
       "      <td>358.8</td>\n",
       "      <td>87470.02</td>\n",
       "    </tr>\n",
       "    <tr>\n",
       "      <th>2018-12-31 23:50:00</th>\n",
       "      <td>0.003</td>\n",
       "      <td>0.0</td>\n",
       "      <td>17.75</td>\n",
       "      <td>49.65</td>\n",
       "      <td>0.598</td>\n",
       "      <td>322.3</td>\n",
       "      <td>87467.29</td>\n",
       "    </tr>\n",
       "  </tbody>\n",
       "</table>\n",
       "<p>52560 rows × 7 columns</p>\n",
       "</div>"
      ],
      "text/plain": [
       "                        Ib   Ig     To     RH     WS     WD         P\n",
       "time                                                                 \n",
       "2018-01-01 00:00:00    NaN  NaN  18.70  36.34  1.422  316.0  87864.11\n",
       "2018-01-01 00:10:00  0.002  0.0  18.95  35.29  1.008  283.7  87876.37\n",
       "2018-01-01 00:20:00  0.170  0.0  18.94  35.43  1.565  326.0  87888.64\n",
       "2018-01-01 00:30:00  0.371  0.0  18.77  35.89  2.175  354.5  87887.21\n",
       "2018-01-01 00:40:00  0.305  0.0  18.81  36.34  1.902  348.0  87886.91\n",
       "...                    ...  ...    ...    ...    ...    ...       ...\n",
       "2018-12-31 23:10:00  0.125  0.0  18.51  47.29  1.715  332.2  87484.32\n",
       "2018-12-31 23:20:00  0.000  0.0  18.26  48.02  1.703  320.5  87470.70\n",
       "2018-12-31 23:30:00  0.044  0.0  18.39  46.84  2.887  335.7  87455.03\n",
       "2018-12-31 23:40:00  0.170  0.0  17.99  47.85  1.528  358.8  87470.02\n",
       "2018-12-31 23:50:00  0.003  0.0  17.75  49.65  0.598  322.3  87467.29\n",
       "\n",
       "[52560 rows x 7 columns]"
      ]
     },
     "execution_count": 14,
     "metadata": {},
     "output_type": "execute_result"
    }
   ],
   "source": [
    "df"
   ]
  },
  {
   "cell_type": "code",
   "execution_count": 15,
   "id": "22122a7a",
   "metadata": {},
   "outputs": [],
   "source": [
    "meses = calendar.month_name[1:]"
   ]
  },
  {
   "cell_type": "code",
   "execution_count": 16,
   "id": "e2995dab",
   "metadata": {},
   "outputs": [],
   "source": [
    "To = df.To.groupby(by=[df.index.month,df.index.hour]).mean().unstack().T"
   ]
  },
  {
   "cell_type": "code",
   "execution_count": 19,
   "id": "8fb26500",
   "metadata": {},
   "outputs": [
    {
     "data": {
      "text/plain": [
       "<matplotlib.colorbar.Colorbar at 0x224459c1280>"
      ]
     },
     "execution_count": 19,
     "metadata": {},
     "output_type": "execute_result"
    },
    {
     "data": {
      "image/png": "[encoded data removed]",
      "text/plain": [
       "<Figure size 1080x720 with 2 Axes>"
      ]
     },
     "metadata": {
      "needs_background": "light"
     },
     "output_type": "display_data"
    }
   ],
   "source": [
    "fig, ax = plt.subplots(figsize=(15,10))\n",
    "p = ax.imshow(To,cmap=\"jet\",aspect=.2,vmin=10, vmax=35)\n",
    "\n",
    "ax.set_xticks(np.arange(0,12,1))\n",
    "ax.set_ylim(0,24)\n",
    "ax.set_yticks(np.linspace(0,24,5))\n",
    "ax.set_xticklabels(meses)\n",
    "ax.set_ylabel(\"Hora [h]\")\n",
    "ax.set_xlabel(\"Mes\")\n",
    "ax.set_title(\"Temperatura del aire\")\n",
    "ax.grid()\n",
    "fig.colorbar(p,shrink=0.48,ticks=np.arange(5,36,5),label=\"Temperatura [$^oC$]\")"
   ]
  },
  {
   "cell_type": "code",
   "execution_count": null,
   "id": "8cbd02d4",
   "metadata": {},
   "outputs": [],
   "source": []
  }
 ],
 "metadata": {
  "kernelspec": {
   "display_name": "Python 3",
   "language": "python",
   "name": "python3"
  },
  "language_info": {
   "codemirror_mode": {
    "name": "ipython",
    "version": 3
   },
   "file_extension": ".py",
   "mimetype": "text/x-python",
   "name": "python",
   "nbconvert_exporter": "python",
   "pygments_lexer": "ipython3",
   "version": "3.9.5"
  }
 },
 "nbformat": 4,
 "nbformat_minor": 5
}
