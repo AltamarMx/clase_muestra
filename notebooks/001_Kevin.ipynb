{
 "cells": [
  {
   "cell_type": "markdown",
   "metadata": {},
   "source": [
    "## Kevin\n",
    "1. Crea el repositorio en github\n",
    "1. Clona repo en su compu\n",
    "1. Crea estructura de repo  folders data/ y notebooks/\n",
    "1. Copia archivo a data/\n",
    "1. Importa los datos y los grafica para explorarlos\n",
    "1. Deja 2 tareas:\n",
    "    1. obtener una gr'afica de huevo para la radiaci'on solar\n",
    "    1. gr'afica promedio horario de todo el a~no de temperatura y humedad (2 ejes)"
   ]
  },
  {
   "cell_type": "code",
   "execution_count": 1,
   "metadata": {},
   "outputs": [],
   "source": [
    "import pandas as pd"
   ]
  },
  {
   "cell_type": "code",
   "execution_count": 3,
   "metadata": {},
   "outputs": [
    {
     "data": {
      "text/plain": [
       "DatetimeIndex(['2018-01-01 00:00:00', '2018-01-01 00:10:00',\n",
       "               '2018-01-01 00:20:00', '2018-01-01 00:30:00',\n",
       "               '2018-01-01 00:40:00', '2018-01-01 00:50:00',\n",
       "               '2018-01-01 01:00:00', '2018-01-01 01:10:00',\n",
       "               '2018-01-01 01:20:00', '2018-01-01 01:30:00',\n",
       "               ...\n",
       "               '2018-12-31 22:20:00', '2018-12-31 22:30:00',\n",
       "               '2018-12-31 22:40:00', '2018-12-31 22:50:00',\n",
       "               '2018-12-31 23:00:00', '2018-12-31 23:10:00',\n",
       "               '2018-12-31 23:20:00', '2018-12-31 23:30:00',\n",
       "               '2018-12-31 23:40:00', '2018-12-31 23:50:00'],\n",
       "              dtype='datetime64[ns]', name='time', length=52560, freq=None)"
      ]
     },
     "execution_count": 3,
     "metadata": {},
     "output_type": "execute_result"
    }
   ],
   "source": [
    "df = pd.read_csv('../data/temixco.csv',index_col=0,parse_dates=True)\n",
    "df.index # para comprobar que el 'indice  es datetime"
   ]
  },
  {
   "cell_type": "markdown",
   "metadata": {},
   "source": [
    "# Tareas por hacer:\n",
    "1. Diego debe hacer una gr'afica de huevo para la radiaci'on solar \n",
    "1. Guillermo debe hacer una gr'afica promedio horario de todo el a~no de temperatura y humedad (2 ejes)"
   ]
  },
  {
   "cell_type": "code",
   "execution_count": null,
   "metadata": {},
   "outputs": [],
   "source": []
  }
 ],
 "metadata": {
  "kernelspec": {
   "display_name": "Python 3",
   "language": "python",
   "name": "python3"
  },
  "language_info": {
   "codemirror_mode": {
    "name": "ipython",
    "version": 3
   },
   "file_extension": ".py",
   "mimetype": "text/x-python",
   "name": "python",
   "nbconvert_exporter": "python",
   "pygments_lexer": "ipython3",
   "version": "3.8.5"
  }
 },
 "nbformat": 4,
 "nbformat_minor": 4
}
